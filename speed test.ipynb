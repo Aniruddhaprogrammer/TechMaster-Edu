{
 "cells": [
  {
   "cell_type": "code",
   "execution_count": 1,
   "id": "a4048b04",
   "metadata": {},
   "outputs": [
    {
     "name": "stdout",
     "output_type": "stream",
     "text": [
      "Requirement already satisfied: speedtest-cli in c:\\users\\admin\\anaconda3\\lib\\site-packages (2.1.3)\n",
      "Note: you may need to restart the kernel to use updated packages.\n"
     ]
    }
   ],
   "source": [
    "pip install speedtest-cli"
   ]
  },
  {
   "cell_type": "code",
   "execution_count": 2,
   "id": "e9bc286e",
   "metadata": {},
   "outputs": [
    {
     "name": "stdout",
     "output_type": "stream",
     "text": [
      "Your connection's downloading speed is :  46.786244702337875 MB/s\n",
      "Your connection's Upload speed is :  47.96395294260744 MB/s\n"
     ]
    }
   ],
   "source": [
    "from speedtest import Speedtest\n",
    "st = Speedtest()\n",
    "print(\"Your connection's downloading speed is : \", st.download()/(1024**2),\"MB/s\")\n",
    "print(\"Your connection's Upload speed is : \", st.upload()/(1024**2),\"MB/s\")"
   ]
  },
  {
   "cell_type": "code",
   "execution_count": null,
   "id": "e1d24be8",
   "metadata": {},
   "outputs": [],
   "source": []
  },
  {
   "cell_type": "code",
   "execution_count": null,
   "id": "d51be1c2",
   "metadata": {},
   "outputs": [],
   "source": []
  }
 ],
 "metadata": {
  "kernelspec": {
   "display_name": "Python 3 (ipykernel)",
   "language": "python",
   "name": "python3"
  },
  "language_info": {
   "codemirror_mode": {
    "name": "ipython",
    "version": 3
   },
   "file_extension": ".py",
   "mimetype": "text/x-python",
   "name": "python",
   "nbconvert_exporter": "python",
   "pygments_lexer": "ipython3",
   "version": "3.9.7"
  }
 },
 "nbformat": 4,
 "nbformat_minor": 5
}
